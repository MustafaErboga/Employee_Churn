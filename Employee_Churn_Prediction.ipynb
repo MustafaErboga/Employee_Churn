{
 "cells": [
  {
   "cell_type": "code",
   "execution_count": 1,
   "id": "699fa964",
   "metadata": {
    "ExecuteTime": {
     "end_time": "2023-02-27T10:03:43.573811Z",
     "start_time": "2023-02-27T10:03:37.293242Z"
    }
   },
   "outputs": [],
   "source": [
    "import numpy as np\n",
    "import pandas as pd \n",
    "from sklearn.ensemble import RandomForestClassifier\n",
    "import joblib"
   ]
  },
  {
   "cell_type": "markdown",
   "id": "243d6d4c",
   "metadata": {},
   "source": [
    "# Data"
   ]
  },
  {
   "cell_type": "code",
   "execution_count": 2,
   "id": "6b7c1239",
   "metadata": {
    "ExecuteTime": {
     "end_time": "2023-02-27T10:03:43.776811Z",
     "start_time": "2023-02-27T10:03:43.580813Z"
    }
   },
   "outputs": [
    {
     "data": {
      "text/html": [
       "<div>\n",
       "<style scoped>\n",
       "    .dataframe tbody tr th:only-of-type {\n",
       "        vertical-align: middle;\n",
       "    }\n",
       "\n",
       "    .dataframe tbody tr th {\n",
       "        vertical-align: top;\n",
       "    }\n",
       "\n",
       "    .dataframe thead th {\n",
       "        text-align: right;\n",
       "    }\n",
       "</style>\n",
       "<table border=\"1\" class=\"dataframe\">\n",
       "  <thead>\n",
       "    <tr style=\"text-align: right;\">\n",
       "      <th></th>\n",
       "      <th>satisfaction_level</th>\n",
       "      <th>last_evaluation</th>\n",
       "      <th>number_project</th>\n",
       "      <th>average_montly_hours</th>\n",
       "      <th>time_spend_company</th>\n",
       "      <th>Work_accident</th>\n",
       "      <th>left</th>\n",
       "      <th>promotion_last_5years</th>\n",
       "      <th>Departments</th>\n",
       "      <th>salary</th>\n",
       "    </tr>\n",
       "  </thead>\n",
       "  <tbody>\n",
       "    <tr>\n",
       "      <th>0</th>\n",
       "      <td>0.38</td>\n",
       "      <td>0.53</td>\n",
       "      <td>2</td>\n",
       "      <td>157</td>\n",
       "      <td>3</td>\n",
       "      <td>0</td>\n",
       "      <td>1</td>\n",
       "      <td>0</td>\n",
       "      <td>sales</td>\n",
       "      <td>low</td>\n",
       "    </tr>\n",
       "    <tr>\n",
       "      <th>1</th>\n",
       "      <td>0.80</td>\n",
       "      <td>0.86</td>\n",
       "      <td>5</td>\n",
       "      <td>262</td>\n",
       "      <td>6</td>\n",
       "      <td>0</td>\n",
       "      <td>1</td>\n",
       "      <td>0</td>\n",
       "      <td>sales</td>\n",
       "      <td>medium</td>\n",
       "    </tr>\n",
       "    <tr>\n",
       "      <th>2</th>\n",
       "      <td>0.11</td>\n",
       "      <td>0.88</td>\n",
       "      <td>7</td>\n",
       "      <td>272</td>\n",
       "      <td>4</td>\n",
       "      <td>0</td>\n",
       "      <td>1</td>\n",
       "      <td>0</td>\n",
       "      <td>sales</td>\n",
       "      <td>medium</td>\n",
       "    </tr>\n",
       "    <tr>\n",
       "      <th>3</th>\n",
       "      <td>0.72</td>\n",
       "      <td>0.87</td>\n",
       "      <td>5</td>\n",
       "      <td>223</td>\n",
       "      <td>5</td>\n",
       "      <td>0</td>\n",
       "      <td>1</td>\n",
       "      <td>0</td>\n",
       "      <td>sales</td>\n",
       "      <td>low</td>\n",
       "    </tr>\n",
       "    <tr>\n",
       "      <th>4</th>\n",
       "      <td>0.37</td>\n",
       "      <td>0.52</td>\n",
       "      <td>2</td>\n",
       "      <td>159</td>\n",
       "      <td>3</td>\n",
       "      <td>0</td>\n",
       "      <td>1</td>\n",
       "      <td>0</td>\n",
       "      <td>sales</td>\n",
       "      <td>low</td>\n",
       "    </tr>\n",
       "  </tbody>\n",
       "</table>\n",
       "</div>"
      ],
      "text/plain": [
       "   satisfaction_level  last_evaluation  number_project  average_montly_hours  \\\n",
       "0                0.38             0.53               2                   157   \n",
       "1                0.80             0.86               5                   262   \n",
       "2                0.11             0.88               7                   272   \n",
       "3                0.72             0.87               5                   223   \n",
       "4                0.37             0.52               2                   159   \n",
       "\n",
       "   time_spend_company  Work_accident  left  promotion_last_5years  \\\n",
       "0                   3              0     1                      0   \n",
       "1                   6              0     1                      0   \n",
       "2                   4              0     1                      0   \n",
       "3                   5              0     1                      0   \n",
       "4                   3              0     1                      0   \n",
       "\n",
       "  Departments   salary  \n",
       "0        sales     low  \n",
       "1        sales  medium  \n",
       "2        sales  medium  \n",
       "3        sales     low  \n",
       "4        sales     low  "
      ]
     },
     "execution_count": 2,
     "metadata": {},
     "output_type": "execute_result"
    }
   ],
   "source": [
    "df = pd.read_csv(\"HR_Dataset.csv\")\n",
    "df.head()"
   ]
  },
  {
   "cell_type": "code",
   "execution_count": 3,
   "id": "b2803ded",
   "metadata": {
    "ExecuteTime": {
     "end_time": "2023-02-27T10:03:43.822846Z",
     "start_time": "2023-02-27T10:03:43.780812Z"
    }
   },
   "outputs": [
    {
     "name": "stdout",
     "output_type": "stream",
     "text": [
      "<class 'pandas.core.frame.DataFrame'>\n",
      "RangeIndex: 14999 entries, 0 to 14998\n",
      "Data columns (total 10 columns):\n",
      " #   Column                 Non-Null Count  Dtype  \n",
      "---  ------                 --------------  -----  \n",
      " 0   satisfaction_level     14999 non-null  float64\n",
      " 1   last_evaluation        14999 non-null  float64\n",
      " 2   number_project         14999 non-null  int64  \n",
      " 3   average_montly_hours   14999 non-null  int64  \n",
      " 4   time_spend_company     14999 non-null  int64  \n",
      " 5   Work_accident          14999 non-null  int64  \n",
      " 6   left                   14999 non-null  int64  \n",
      " 7   promotion_last_5years  14999 non-null  int64  \n",
      " 8   Departments            14999 non-null  object \n",
      " 9   salary                 14999 non-null  object \n",
      "dtypes: float64(2), int64(6), object(2)\n",
      "memory usage: 1.1+ MB\n"
     ]
    }
   ],
   "source": [
    "df.info()"
   ]
  },
  {
   "cell_type": "code",
   "execution_count": 4,
   "id": "73790f7b",
   "metadata": {
    "ExecuteTime": {
     "end_time": "2023-02-27T10:03:43.932813Z",
     "start_time": "2023-02-27T10:03:43.837815Z"
    }
   },
   "outputs": [],
   "source": [
    "df.drop_duplicates(keep='first', inplace=True)"
   ]
  },
  {
   "cell_type": "code",
   "execution_count": 5,
   "id": "adcb45c6",
   "metadata": {
    "ExecuteTime": {
     "end_time": "2023-02-27T10:03:44.025810Z",
     "start_time": "2023-02-27T10:03:43.940818Z"
    }
   },
   "outputs": [
    {
     "name": "stdout",
     "output_type": "stream",
     "text": [
      "satisfaction_level\n",
      "last_evaluation\n",
      "number_project\n",
      "average_montly_hours\n",
      "time_spend_company\n",
      "work_accident\n",
      "left\n",
      "promotion_last_5years\n",
      "departments\n",
      "salary\n"
     ]
    }
   ],
   "source": [
    "df.columns=[i.lower().strip() for i in df.columns]\n",
    "for i in df.columns:\n",
    "    print(i)"
   ]
  },
  {
   "cell_type": "code",
   "execution_count": 6,
   "id": "95166f89",
   "metadata": {
    "ExecuteTime": {
     "end_time": "2023-02-27T10:03:44.121860Z",
     "start_time": "2023-02-27T10:03:44.028812Z"
    }
   },
   "outputs": [],
   "source": [
    "salary_map = {'high': '3', 'medium': '2' , 'low': '1'}\n",
    "df['salary']=df['salary'].map(salary_map)\n",
    "df['salary']=df['salary'].astype('int')"
   ]
  },
  {
   "cell_type": "code",
   "execution_count": 7,
   "id": "d14d077a",
   "metadata": {
    "ExecuteTime": {
     "end_time": "2023-02-27T10:03:44.230812Z",
     "start_time": "2023-02-27T10:03:44.130831Z"
    }
   },
   "outputs": [],
   "source": [
    "department_map = {'sales': '1', 'technical': '2' , 'support': '3','IT': '4', 'RandD': '5' , 'product_mng': '6','marketing': '7', 'accounting': '8' , 'hr': '9', 'management': '10'}\n",
    "df['departments']=df['departments'].map(department_map)\n",
    "df['departments']=df['departments'].astype('int')"
   ]
  },
  {
   "cell_type": "code",
   "execution_count": 8,
   "id": "ce885b24",
   "metadata": {
    "ExecuteTime": {
     "end_time": "2023-02-27T10:03:44.387932Z",
     "start_time": "2023-02-27T10:03:44.238839Z"
    }
   },
   "outputs": [
    {
     "name": "stderr",
     "output_type": "stream",
     "text": [
      "C:\\Users\\Mustafa\\AppData\\Roaming\\Python\\Python39\\site-packages\\numpy\\core\\fromnumeric.py:85: FutureWarning: In a future version, DataFrame.min(axis=None) will return a scalar min over the entire DataFrame. To retain the old behavior, use 'frame.min(axis=0)' or just 'frame.min()'\n",
      "  return reduction(axis=axis, out=out, **passkwargs)\n",
      "C:\\Users\\Mustafa\\AppData\\Roaming\\Python\\Python39\\site-packages\\numpy\\core\\fromnumeric.py:85: FutureWarning: In a future version, DataFrame.max(axis=None) will return a scalar max over the entire DataFrame. To retain the old behavior, use 'frame.max(axis=0)' or just 'frame.max()'\n",
      "  return reduction(axis=axis, out=out, **passkwargs)\n"
     ]
    },
    {
     "data": {
      "text/html": [
       "<div>\n",
       "<style scoped>\n",
       "    .dataframe tbody tr th:only-of-type {\n",
       "        vertical-align: middle;\n",
       "    }\n",
       "\n",
       "    .dataframe tbody tr th {\n",
       "        vertical-align: top;\n",
       "    }\n",
       "\n",
       "    .dataframe thead th {\n",
       "        text-align: right;\n",
       "    }\n",
       "</style>\n",
       "<table border=\"1\" class=\"dataframe\">\n",
       "  <thead>\n",
       "    <tr style=\"text-align: right;\">\n",
       "      <th></th>\n",
       "      <th>satisfaction_level</th>\n",
       "      <th>last_evaluation</th>\n",
       "      <th>number_project</th>\n",
       "      <th>average_montly_hours</th>\n",
       "      <th>time_spend_company</th>\n",
       "      <th>work_accident</th>\n",
       "      <th>left</th>\n",
       "      <th>promotion_last_5years</th>\n",
       "      <th>departments</th>\n",
       "      <th>salary</th>\n",
       "    </tr>\n",
       "  </thead>\n",
       "  <tbody>\n",
       "    <tr>\n",
       "      <th>0</th>\n",
       "      <td>0.318681</td>\n",
       "      <td>0.265625</td>\n",
       "      <td>0.0</td>\n",
       "      <td>0.285047</td>\n",
       "      <td>0.125</td>\n",
       "      <td>0.0</td>\n",
       "      <td>1.0</td>\n",
       "      <td>0.0</td>\n",
       "      <td>0.0</td>\n",
       "      <td>0.0</td>\n",
       "    </tr>\n",
       "    <tr>\n",
       "      <th>1</th>\n",
       "      <td>0.780220</td>\n",
       "      <td>0.781250</td>\n",
       "      <td>0.6</td>\n",
       "      <td>0.775701</td>\n",
       "      <td>0.500</td>\n",
       "      <td>0.0</td>\n",
       "      <td>1.0</td>\n",
       "      <td>0.0</td>\n",
       "      <td>0.0</td>\n",
       "      <td>0.5</td>\n",
       "    </tr>\n",
       "    <tr>\n",
       "      <th>2</th>\n",
       "      <td>0.021978</td>\n",
       "      <td>0.812500</td>\n",
       "      <td>1.0</td>\n",
       "      <td>0.822430</td>\n",
       "      <td>0.250</td>\n",
       "      <td>0.0</td>\n",
       "      <td>1.0</td>\n",
       "      <td>0.0</td>\n",
       "      <td>0.0</td>\n",
       "      <td>0.5</td>\n",
       "    </tr>\n",
       "    <tr>\n",
       "      <th>3</th>\n",
       "      <td>0.692308</td>\n",
       "      <td>0.796875</td>\n",
       "      <td>0.6</td>\n",
       "      <td>0.593458</td>\n",
       "      <td>0.375</td>\n",
       "      <td>0.0</td>\n",
       "      <td>1.0</td>\n",
       "      <td>0.0</td>\n",
       "      <td>0.0</td>\n",
       "      <td>0.0</td>\n",
       "    </tr>\n",
       "    <tr>\n",
       "      <th>4</th>\n",
       "      <td>0.307692</td>\n",
       "      <td>0.250000</td>\n",
       "      <td>0.0</td>\n",
       "      <td>0.294393</td>\n",
       "      <td>0.125</td>\n",
       "      <td>0.0</td>\n",
       "      <td>1.0</td>\n",
       "      <td>0.0</td>\n",
       "      <td>0.0</td>\n",
       "      <td>0.0</td>\n",
       "    </tr>\n",
       "  </tbody>\n",
       "</table>\n",
       "</div>"
      ],
      "text/plain": [
       "   satisfaction_level  last_evaluation  number_project  average_montly_hours  \\\n",
       "0            0.318681         0.265625             0.0              0.285047   \n",
       "1            0.780220         0.781250             0.6              0.775701   \n",
       "2            0.021978         0.812500             1.0              0.822430   \n",
       "3            0.692308         0.796875             0.6              0.593458   \n",
       "4            0.307692         0.250000             0.0              0.294393   \n",
       "\n",
       "   time_spend_company  work_accident  left  promotion_last_5years  \\\n",
       "0               0.125            0.0   1.0                    0.0   \n",
       "1               0.500            0.0   1.0                    0.0   \n",
       "2               0.250            0.0   1.0                    0.0   \n",
       "3               0.375            0.0   1.0                    0.0   \n",
       "4               0.125            0.0   1.0                    0.0   \n",
       "\n",
       "   departments  salary  \n",
       "0          0.0     0.0  \n",
       "1          0.0     0.5  \n",
       "2          0.0     0.5  \n",
       "3          0.0     0.0  \n",
       "4          0.0     0.0  "
      ]
     },
     "execution_count": 8,
     "metadata": {},
     "output_type": "execute_result"
    }
   ],
   "source": [
    "df = (df - np.min(df)) / (np.max(df) - np.min(df)).values\n",
    "df.head()"
   ]
  },
  {
   "cell_type": "code",
   "execution_count": 9,
   "id": "181a47e6",
   "metadata": {
    "ExecuteTime": {
     "end_time": "2023-02-27T10:03:44.419928Z",
     "start_time": "2023-02-27T10:03:44.390933Z"
    }
   },
   "outputs": [],
   "source": [
    "real_test_data = df.sample(1991)\n",
    "\n",
    "X_real_test = real_test_data.drop('left',axis=1)\n",
    "\n",
    "y_real_test = real_test_data['left']"
   ]
  },
  {
   "cell_type": "code",
   "execution_count": 10,
   "id": "dbdaa576",
   "metadata": {
    "ExecuteTime": {
     "end_time": "2023-02-27T10:03:44.515936Z",
     "start_time": "2023-02-27T10:03:44.428928Z"
    }
   },
   "outputs": [
    {
     "name": "stdout",
     "output_type": "stream",
     "text": [
      "X_real_test : (1991, 9)\n",
      "y_real_test : (1991,)\n"
     ]
    }
   ],
   "source": [
    "print('X_real_test :',X_real_test.shape)\n",
    "print('y_real_test :',y_real_test.shape)"
   ]
  },
  {
   "cell_type": "code",
   "execution_count": 11,
   "id": "6ab7fe5a",
   "metadata": {
    "ExecuteTime": {
     "end_time": "2023-02-27T10:03:44.624929Z",
     "start_time": "2023-02-27T10:03:44.521930Z"
    }
   },
   "outputs": [],
   "source": [
    "drop_index = real_test_data.index\n",
    "df = df.drop(drop_index)"
   ]
  },
  {
   "cell_type": "code",
   "execution_count": 12,
   "id": "3f8552bc",
   "metadata": {
    "ExecuteTime": {
     "end_time": "2023-02-27T10:03:44.792939Z",
     "start_time": "2023-02-27T10:03:44.629928Z"
    }
   },
   "outputs": [],
   "source": [
    "X = df.drop('left',axis=1)\n",
    "y = df['left']"
   ]
  },
  {
   "cell_type": "code",
   "execution_count": 13,
   "id": "5ef88f49",
   "metadata": {
    "ExecuteTime": {
     "end_time": "2023-02-27T10:03:44.903938Z",
     "start_time": "2023-02-27T10:03:44.797929Z"
    }
   },
   "outputs": [],
   "source": [
    "from sklearn.model_selection import train_test_split\n",
    "X_train,X_test,y_train,y_test=train_test_split(X,y,\n",
    "                                               test_size=0.2,\n",
    "                                               random_state=42)"
   ]
  },
  {
   "cell_type": "code",
   "execution_count": 14,
   "id": "862d7939",
   "metadata": {
    "ExecuteTime": {
     "end_time": "2023-02-27T10:03:45.019931Z",
     "start_time": "2023-02-27T10:03:44.910928Z"
    }
   },
   "outputs": [
    {
     "name": "stdout",
     "output_type": "stream",
     "text": [
      "X_train : (8000, 9)\n",
      "X_test : (2000, 9)\n",
      "y_train : (8000,)\n",
      "y_test : (2000,)\n"
     ]
    }
   ],
   "source": [
    "print('X_train :',X_train.shape)\n",
    "print('X_test :',X_test.shape)\n",
    "print('y_train :',y_train.shape)\n",
    "print('y_test :',y_test.shape)"
   ]
  },
  {
   "cell_type": "markdown",
   "id": "3b513f62",
   "metadata": {},
   "source": [
    "# Random Forest Classifier"
   ]
  },
  {
   "cell_type": "code",
   "execution_count": 15,
   "id": "68364ac7",
   "metadata": {
    "ExecuteTime": {
     "end_time": "2023-02-27T10:03:45.881008Z",
     "start_time": "2023-02-27T10:03:45.029930Z"
    }
   },
   "outputs": [
    {
     "data": {
      "text/plain": [
       "RandomForestClassifier(random_state=101)"
      ]
     },
     "execution_count": 15,
     "metadata": {},
     "output_type": "execute_result"
    }
   ],
   "source": [
    "RF_model = RandomForestClassifier(random_state=101)\n",
    "RF_model.fit(X_train,y_train)"
   ]
  },
  {
   "cell_type": "code",
   "execution_count": 16,
   "id": "e8d6b330",
   "metadata": {
    "ExecuteTime": {
     "end_time": "2023-02-27T10:03:45.897008Z",
     "start_time": "2023-02-27T10:03:45.889009Z"
    }
   },
   "outputs": [],
   "source": [
    "from sklearn.metrics import classification_report, confusion_matrix\n"
   ]
  },
  {
   "cell_type": "code",
   "execution_count": 17,
   "id": "586a396e",
   "metadata": {
    "ExecuteTime": {
     "end_time": "2023-02-27T10:03:46.037070Z",
     "start_time": "2023-02-27T10:03:45.902033Z"
    }
   },
   "outputs": [],
   "source": [
    "def eval_metric(model, X_train, y_train, X_test, y_test):\n",
    "    y_train_pred = model.predict(X_train)\n",
    "    y_pred = model.predict(X_test)\n",
    "    \n",
    "    print(\"Test_Set\")\n",
    "    print(confusion_matrix(y_test, y_pred))\n",
    "    print(classification_report(y_test, y_pred))\n",
    "    print()\n",
    "    print(\"Train_Set\")\n",
    "    print(confusion_matrix(y_train, y_train_pred))\n",
    "    print(classification_report(y_train, y_train_pred))"
   ]
  },
  {
   "cell_type": "code",
   "execution_count": 18,
   "id": "05eb7a5d",
   "metadata": {
    "ExecuteTime": {
     "end_time": "2023-02-27T10:03:46.400007Z",
     "start_time": "2023-02-27T10:03:46.042012Z"
    },
    "scrolled": true
   },
   "outputs": [
    {
     "name": "stdout",
     "output_type": "stream",
     "text": [
      "Test_Set\n",
      "[[1644    4]\n",
      " [  33  319]]\n",
      "              precision    recall  f1-score   support\n",
      "\n",
      "         0.0       0.98      1.00      0.99      1648\n",
      "         1.0       0.99      0.91      0.95       352\n",
      "\n",
      "    accuracy                           0.98      2000\n",
      "   macro avg       0.98      0.95      0.97      2000\n",
      "weighted avg       0.98      0.98      0.98      2000\n",
      "\n",
      "\n",
      "Train_Set\n",
      "[[6670    0]\n",
      " [   0 1330]]\n",
      "              precision    recall  f1-score   support\n",
      "\n",
      "         0.0       1.00      1.00      1.00      6670\n",
      "         1.0       1.00      1.00      1.00      1330\n",
      "\n",
      "    accuracy                           1.00      8000\n",
      "   macro avg       1.00      1.00      1.00      8000\n",
      "weighted avg       1.00      1.00      1.00      8000\n",
      "\n"
     ]
    }
   ],
   "source": [
    "eval_metric(RF_model, X_train, y_train, X_test, y_test)"
   ]
  },
  {
   "cell_type": "markdown",
   "id": "e5505a08",
   "metadata": {},
   "source": [
    "# Save & Load Test Model"
   ]
  },
  {
   "cell_type": "code",
   "execution_count": 19,
   "id": "d2558a1e",
   "metadata": {
    "ExecuteTime": {
     "end_time": "2023-02-27T10:03:46.603020Z",
     "start_time": "2023-02-27T10:03:46.404012Z"
    }
   },
   "outputs": [],
   "source": [
    "# save\n",
    "joblib.dump(RF_model, \"model_rfc_churn.joblib\")\n",
    "\n",
    "# load\n",
    "loaded_rf = joblib.load(\"model_rfc_churn.joblib\")"
   ]
  },
  {
   "cell_type": "code",
   "execution_count": 25,
   "id": "1093f8a1",
   "metadata": {
    "ExecuteTime": {
     "end_time": "2023-02-27T10:04:10.519086Z",
     "start_time": "2023-02-27T10:04:10.505086Z"
    }
   },
   "outputs": [],
   "source": [
    "my_dict = {\n",
    "    'satisfaction_level': 0.55,\n",
    "    'last_evaluation': 0.75,\n",
    "    'number_project': 4,\n",
    "    'average_montly_hours': 200,\n",
    "    'time_spend_company': 3,\n",
    "    'work_accident': 0,\n",
    "    'promotion_last_5years': 1,  \n",
    "    'departments': \"IT\",\n",
    "    'salary': \"low\"\n",
    "}\n"
   ]
  },
  {
   "cell_type": "code",
   "execution_count": 26,
   "id": "0f48fd9d",
   "metadata": {
    "ExecuteTime": {
     "end_time": "2023-02-27T10:04:13.033674Z",
     "start_time": "2023-02-27T10:04:13.017668Z"
    }
   },
   "outputs": [],
   "source": [
    "df_pred=pd.DataFrame.from_dict([my_dict])"
   ]
  },
  {
   "cell_type": "code",
   "execution_count": 31,
   "id": "b5884d59",
   "metadata": {
    "ExecuteTime": {
     "end_time": "2023-02-27T10:04:31.846114Z",
     "start_time": "2023-02-27T10:04:31.824139Z"
    }
   },
   "outputs": [],
   "source": [
    "salary_map = {'high': '3', 'medium': '2' , 'low': '1'}\n",
    "df_pred['salary']=df_pred['salary'].map(salary_map)\n",
    "df_pred['salary']=df_pred['salary'].astype('int')"
   ]
  },
  {
   "cell_type": "code",
   "execution_count": 29,
   "id": "d7bf30a2",
   "metadata": {
    "ExecuteTime": {
     "end_time": "2023-02-27T10:04:25.682224Z",
     "start_time": "2023-02-27T10:04:25.657230Z"
    }
   },
   "outputs": [],
   "source": [
    "department_map = {'sales': '1', 'technical': '2' , 'support': '3','IT': '4', 'RandD': '5' , 'product_mng': '6','marketing': '7', 'accounting': '8' , 'hr': '9', 'management': '10'}\n",
    "df_pred['departments']=df_pred['departments'].map(department_map)\n",
    "df_pred['departments']=df_pred['departments'].astype('int')"
   ]
  },
  {
   "cell_type": "code",
   "execution_count": 32,
   "id": "6280c3ac",
   "metadata": {
    "ExecuteTime": {
     "end_time": "2023-02-27T10:04:33.440129Z",
     "start_time": "2023-02-27T10:04:33.410129Z"
    }
   },
   "outputs": [
    {
     "data": {
      "text/html": [
       "<div>\n",
       "<style scoped>\n",
       "    .dataframe tbody tr th:only-of-type {\n",
       "        vertical-align: middle;\n",
       "    }\n",
       "\n",
       "    .dataframe tbody tr th {\n",
       "        vertical-align: top;\n",
       "    }\n",
       "\n",
       "    .dataframe thead th {\n",
       "        text-align: right;\n",
       "    }\n",
       "</style>\n",
       "<table border=\"1\" class=\"dataframe\">\n",
       "  <thead>\n",
       "    <tr style=\"text-align: right;\">\n",
       "      <th></th>\n",
       "      <th>satisfaction_level</th>\n",
       "      <th>last_evaluation</th>\n",
       "      <th>number_project</th>\n",
       "      <th>average_montly_hours</th>\n",
       "      <th>time_spend_company</th>\n",
       "      <th>work_accident</th>\n",
       "      <th>promotion_last_5years</th>\n",
       "      <th>departments</th>\n",
       "      <th>salary</th>\n",
       "    </tr>\n",
       "  </thead>\n",
       "  <tbody>\n",
       "    <tr>\n",
       "      <th>0</th>\n",
       "      <td>0.55</td>\n",
       "      <td>0.75</td>\n",
       "      <td>4</td>\n",
       "      <td>200</td>\n",
       "      <td>3</td>\n",
       "      <td>0</td>\n",
       "      <td>1</td>\n",
       "      <td>4</td>\n",
       "      <td>1</td>\n",
       "    </tr>\n",
       "  </tbody>\n",
       "</table>\n",
       "</div>"
      ],
      "text/plain": [
       "   satisfaction_level  last_evaluation  number_project  average_montly_hours  \\\n",
       "0                0.55             0.75               4                   200   \n",
       "\n",
       "   time_spend_company  work_accident  promotion_last_5years  departments  \\\n",
       "0                   3              0                      1            4   \n",
       "\n",
       "   salary  \n",
       "0       1  "
      ]
     },
     "execution_count": 32,
     "metadata": {},
     "output_type": "execute_result"
    }
   ],
   "source": [
    "df_pred"
   ]
  }
 ],
 "metadata": {
  "kernelspec": {
   "display_name": "Python 3 (ipykernel)",
   "language": "python",
   "name": "python3"
  },
  "language_info": {
   "codemirror_mode": {
    "name": "ipython",
    "version": 3
   },
   "file_extension": ".py",
   "mimetype": "text/x-python",
   "name": "python",
   "nbconvert_exporter": "python",
   "pygments_lexer": "ipython3",
   "version": "3.9.13"
  },
  "toc": {
   "base_numbering": 1,
   "nav_menu": {},
   "number_sections": true,
   "sideBar": true,
   "skip_h1_title": false,
   "title_cell": "Table of Contents",
   "title_sidebar": "Contents",
   "toc_cell": false,
   "toc_position": {
    "height": "calc(100% - 180px)",
    "left": "10px",
    "top": "150px",
    "width": "384px"
   },
   "toc_section_display": true,
   "toc_window_display": true
  },
  "varInspector": {
   "cols": {
    "lenName": 16,
    "lenType": 16,
    "lenVar": 40
   },
   "kernels_config": {
    "python": {
     "delete_cmd_postfix": "",
     "delete_cmd_prefix": "del ",
     "library": "var_list.py",
     "varRefreshCmd": "print(var_dic_list())"
    },
    "r": {
     "delete_cmd_postfix": ") ",
     "delete_cmd_prefix": "rm(",
     "library": "var_list.r",
     "varRefreshCmd": "cat(var_dic_list()) "
    }
   },
   "types_to_exclude": [
    "module",
    "function",
    "builtin_function_or_method",
    "instance",
    "_Feature"
   ],
   "window_display": false
  }
 },
 "nbformat": 4,
 "nbformat_minor": 5
}
